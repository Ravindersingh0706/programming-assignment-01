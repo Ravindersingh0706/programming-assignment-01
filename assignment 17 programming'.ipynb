{
 "cells": [
  {
   "cell_type": "code",
   "execution_count": 2,
   "id": "9f0ed66a-6adc-44ee-8c21-729bc5012aeb",
   "metadata": {},
   "outputs": [],
   "source": [
    "#1Create a function that takes three arguments a, b, c and returns the sum of the numbers that are evenly \n",
    "#divided by c from the range a, b inclusive."
   ]
  },
  {
   "cell_type": "code",
   "execution_count": 3,
   "id": "84156540-24f2-44d3-a79f-8d004179b2ea",
   "metadata": {},
   "outputs": [
    {
     "name": "stdout",
     "output_type": "stream",
     "text": [
      "18\n"
     ]
    }
   ],
   "source": [
    "def evenly_divisible(a, b, c):\n",
    "    total = 0\n",
    "    for i in range(a,b+1):\n",
    "        if i%c==0:\n",
    "            total += i\n",
    "    return total\n",
    "\n",
    "\n",
    "print(evenly_divisible(1,10,3)) "
   ]
  },
  {
   "cell_type": "code",
   "execution_count": 4,
   "id": "f8ed47f3-d54f-4729-8f22-a00634698478",
   "metadata": {},
   "outputs": [],
   "source": [
    "#2Create a function that returns True if a given inequality expression is correct and False otherwise."
   ]
  },
  {
   "cell_type": "code",
   "execution_count": null,
   "id": "36302aea-7807-448e-a662-d8899e82d028",
   "metadata": {},
   "outputs": [],
   "source": []
  }
 ],
 "metadata": {
  "kernelspec": {
   "display_name": "Python 3 (ipykernel)",
   "language": "python",
   "name": "python3"
  },
  "language_info": {
   "codemirror_mode": {
    "name": "ipython",
    "version": 3
   },
   "file_extension": ".py",
   "mimetype": "text/x-python",
   "name": "python",
   "nbconvert_exporter": "python",
   "pygments_lexer": "ipython3",
   "version": "3.10.6"
  }
 },
 "nbformat": 4,
 "nbformat_minor": 5
}
