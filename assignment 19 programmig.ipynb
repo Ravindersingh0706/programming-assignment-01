{
 "cells": [
  {
   "cell_type": "code",
   "execution_count": 1,
   "id": "5591bb90-6f39-4c7f-962c-1b77293081e1",
   "metadata": {},
   "outputs": [],
   "source": [
    "#1Create a function that takes a string and returns a string in which each character is repeated once."
   ]
  },
  {
   "cell_type": "code",
   "execution_count": 2,
   "id": "f4e22f03-81d5-4e40-b522-97109a0d2803",
   "metadata": {},
   "outputs": [
    {
     "name": "stdout",
     "output_type": "stream",
     "text": [
      "SSttrriinngg\n"
     ]
    }
   ],
   "source": [
    "def double_char(string1):\n",
    "    result = \"\"\n",
    "    for i in string1:\n",
    "        result += i*2\n",
    "\n",
    "    return result\n",
    "\n",
    "\n",
    "print(double_char(\"String\"))"
   ]
  },
  {
   "cell_type": "code",
   "execution_count": 3,
   "id": "698e47a7-c521-4676-a512-a30ea6292ec5",
   "metadata": {},
   "outputs": [],
   "source": [
    " #2Create a function that reverses a boolean value and returns the string \"boolean expected\" if another variable \n",
    "# type is given."
   ]
  },
  {
   "cell_type": "code",
   "execution_count": 4,
   "id": "ae27cd83-2f97-42a4-9eb1-9bb36007f344",
   "metadata": {},
   "outputs": [
    {
     "name": "stdout",
     "output_type": "stream",
     "text": [
      "False\n"
     ]
    }
   ],
   "source": [
    "def reverse(val):\n",
    "    if val:\n",
    "        return not val\n",
    "    elif not val:\n",
    "        return not val\n",
    "    else:\n",
    "        return \"Boolean expected\"\n",
    "\n",
    "\n",
    "print(reverse(True))"
   ]
  },
  {
   "cell_type": "code",
   "execution_count": 5,
   "id": "66f46534-7c0e-43c8-ac5c-f1dd3e768e83",
   "metadata": {},
   "outputs": [],
   "source": [
    "#3Create a function that returns the thickness (in meters) of a piece of paper after folding it n number of times. \n",
    "The paper starts off with a thickness of 0.5mm"
   ]
  },
  {
   "cell_type": "code",
   "execution_count": 6,
   "id": "7ac72ce6-4f89-469b-a250-5a3cf064faac",
   "metadata": {},
   "outputs": [
    {
     "name": "stdout",
     "output_type": "stream",
     "text": [
      "1048.576m\n"
     ]
    }
   ],
   "source": [
    "def num_layers(n):\n",
    "    return str(0.5*2**n/1000)+\"m\"\n",
    "\n",
    "\n",
    "print(num_layers(21))"
   ]
  },
  {
   "cell_type": "code",
   "execution_count": null,
   "id": "49e82d3d-c169-46b9-a29d-518e006621e1",
   "metadata": {},
   "outputs": [],
   "source": []
  }
 ],
 "metadata": {
  "kernelspec": {
   "display_name": "Python 3 (ipykernel)",
   "language": "python",
   "name": "python3"
  },
  "language_info": {
   "codemirror_mode": {
    "name": "ipython",
    "version": 3
   },
   "file_extension": ".py",
   "mimetype": "text/x-python",
   "name": "python",
   "nbconvert_exporter": "python",
   "pygments_lexer": "ipython3",
   "version": "3.10.6"
  }
 },
 "nbformat": 4,
 "nbformat_minor": 5
}
