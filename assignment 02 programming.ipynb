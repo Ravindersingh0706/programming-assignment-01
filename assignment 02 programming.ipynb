{
 "cells": [
  {
   "cell_type": "code",
   "execution_count": null,
   "id": "4ef1406a-4c27-4f5e-997a-9181b437022e",
   "metadata": {},
   "outputs": [],
   "source": [
    "#1Write a Python program to convert kilometers to miles?"
   ]
  },
  {
   "cell_type": "code",
   "execution_count": 1,
   "id": "f59807c2-e88e-42c1-b312-5194ddf53873",
   "metadata": {},
   "outputs": [
    {
     "name": "stdin",
     "output_type": "stream",
     "text": [
      "Enter kilometers  10\n"
     ]
    },
    {
     "name": "stdout",
     "output_type": "stream",
     "text": [
      "6.21371\n"
     ]
    }
   ],
   "source": [
    "km = int(input(\"Enter kilometers \"))\n",
    "miles = km*0.621371\n",
    "print(miles)"
   ]
  },
  {
   "cell_type": "code",
   "execution_count": null,
   "id": "67db9608-6c95-434f-854c-fae322ad2ad9",
   "metadata": {},
   "outputs": [],
   "source": [
    "#2Write a Python program to convert Celsius to Fahrenheit?"
   ]
  },
  {
   "cell_type": "code",
   "execution_count": 2,
   "id": "be2d826b-366c-4aba-a296-dcbdf734070d",
   "metadata": {},
   "outputs": [
    {
     "name": "stdin",
     "output_type": "stream",
     "text": [
      "Enter temp in celsius  50\n"
     ]
    },
    {
     "name": "stdout",
     "output_type": "stream",
     "text": [
      "122.0\n"
     ]
    }
   ],
   "source": [
    "cel = int(input(\"Enter temp in celsius \"))\n",
    "fah = (cel*9/5)+32\n",
    "print(fah)"
   ]
  },
  {
   "cell_type": "code",
   "execution_count": null,
   "id": "1063af47-d128-4cb2-b5db-e62f2c2d329d",
   "metadata": {},
   "outputs": [],
   "source": [
    "#3Write a Python program to display calendar?"
   ]
  },
  {
   "cell_type": "code",
   "execution_count": 3,
   "id": "3d3e70c4-9e2c-4139-84de-9a52cbc68adb",
   "metadata": {},
   "outputs": [
    {
     "name": "stdin",
     "output_type": "stream",
     "text": [
      "Enter year  2023\n",
      "Enter month  01\n"
     ]
    },
    {
     "name": "stdout",
     "output_type": "stream",
     "text": [
      "    January 2023\n",
      "Mo Tu We Th Fr Sa Su\n",
      "                   1\n",
      " 2  3  4  5  6  7  8\n",
      " 9 10 11 12 13 14 15\n",
      "16 17 18 19 20 21 22\n",
      "23 24 25 26 27 28 29\n",
      "30 31\n",
      "\n"
     ]
    }
   ],
   "source": [
    "import calendar\n",
    "yy = int(input(\"Enter year \"))\n",
    "month = int(input(\"Enter month \"))\n",
    "print(calendar.month(yy,month))"
   ]
  },
  {
   "cell_type": "code",
   "execution_count": null,
   "id": "2eece211-68b1-49f9-93b9-a6b444f36e53",
   "metadata": {},
   "outputs": [],
   "source": [
    "#4Write a Python program to solve quadratic equation?"
   ]
  },
  {
   "cell_type": "code",
   "execution_count": 4,
   "id": "f991aa52-638e-4171-9670-12d64e8332c9",
   "metadata": {},
   "outputs": [
    {
     "name": "stdin",
     "output_type": "stream",
     "text": [
      "Enter the value of a:  40\n",
      "Enter the value of b:  10\n",
      "Enter the value of c:  15\n"
     ]
    },
    {
     "name": "stdout",
     "output_type": "stream",
     "text": [
      "(-0.12499999999999996+0.5994789404140899j) (-0.12500000000000006-0.5994789404140899j)\n"
     ]
    }
   ],
   "source": [
    "a = int(input(\"Enter the value of a: \"))\n",
    "b = int(input(\"Enter the value of b: \"))\n",
    "c = int(input(\"Enter the value of c: \"))\n",
    "\n",
    "temp = (b**2 - 4*a*c)**0.5\n",
    "x1 = (-b + temp)/(2*a)\n",
    "x2 = (-b-temp)/(2*a)\n",
    "print(x1,x2)"
   ]
  },
  {
   "cell_type": "code",
   "execution_count": null,
   "id": "40f3a2d2-51a3-45fc-a135-2b6ce1954230",
   "metadata": {},
   "outputs": [],
   "source": [
    "#5Write a Python program to swap two variables without temp variable?"
   ]
  },
  {
   "cell_type": "code",
   "execution_count": 5,
   "id": "05937966-12d8-49ad-b621-76dc0c7d32ca",
   "metadata": {},
   "outputs": [
    {
     "name": "stdin",
     "output_type": "stream",
     "text": [
      "a  10\n",
      "b  6\n"
     ]
    },
    {
     "name": "stdout",
     "output_type": "stream",
     "text": [
      "a=  6\n",
      "b=  10\n"
     ]
    }
   ],
   "source": [
    "a = int(input(\"a \"))\n",
    "b = int(input(\"b \"))\n",
    "a,b = b,a\n",
    "print(\"a= \",a)\n",
    "print(\"b= \",b)"
   ]
  },
  {
   "cell_type": "code",
   "execution_count": null,
   "id": "ad372e64-4900-4b53-b62c-0f2de0ff2413",
   "metadata": {},
   "outputs": [],
   "source": []
  }
 ],
 "metadata": {
  "kernelspec": {
   "display_name": "Python 3 (ipykernel)",
   "language": "python",
   "name": "python3"
  },
  "language_info": {
   "codemirror_mode": {
    "name": "ipython",
    "version": 3
   },
   "file_extension": ".py",
   "mimetype": "text/x-python",
   "name": "python",
   "nbconvert_exporter": "python",
   "pygments_lexer": "ipython3",
   "version": "3.10.6"
  }
 },
 "nbformat": 4,
 "nbformat_minor": 5
}
