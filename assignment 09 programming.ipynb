{
 "cells": [
  {
   "cell_type": "code",
   "execution_count": 1,
   "id": "1d163265-988d-45ed-884f-3caea7fb1d4f",
   "metadata": {},
   "outputs": [],
   "source": [
    "#1Write a Python program to check if the given number is a Disarium Number?"
   ]
  },
  {
   "cell_type": "code",
   "execution_count": 2,
   "id": "7e602498-bc37-4db6-9ee3-9b94204386be",
   "metadata": {},
   "outputs": [
    {
     "name": "stdin",
     "output_type": "stream",
     "text": [
      "Enter the number  12\n"
     ]
    },
    {
     "name": "stdout",
     "output_type": "stream",
     "text": [
      "number is not disarium number\n"
     ]
    }
   ],
   "source": [
    "number = input(\"Enter the number \")\n",
    "total = 0\n",
    "\n",
    "temp = number\n",
    "for index,digit in enumerate(temp):\n",
    "    total += int(digit)**(index+1)\n",
    "\n",
    "if total == int(number):\n",
    "    print(\"number is disarium number\")\n",
    "else:\n",
    "    print(\"number is not disarium number\")"
   ]
  },
  {
   "cell_type": "code",
   "execution_count": 3,
   "id": "c1cb0828-7209-4520-8d21-188c88df1fe3",
   "metadata": {},
   "outputs": [],
   "source": [
    "#2Write a Python program to print all disarium numbers between 1 to 100?"
   ]
  },
  {
   "cell_type": "code",
   "execution_count": 4,
   "id": "36ee829b-476e-4ae6-8658-ada1714fdd5c",
   "metadata": {},
   "outputs": [
    {
     "name": "stdout",
     "output_type": "stream",
     "text": [
      "1\n",
      "2\n",
      "3\n",
      "4\n",
      "5\n",
      "6\n",
      "7\n",
      "8\n",
      "9\n",
      "89\n"
     ]
    }
   ],
   "source": [
    "for i in range(1,101):\n",
    "    total = 0\n",
    "\n",
    "    temp = str(i)\n",
    "    for index,digit in enumerate(temp):\n",
    "        total += int(digit)**(index+1)\n",
    "\n",
    "    if total == i:\n",
    "        print(i)"
   ]
  },
  {
   "cell_type": "code",
   "execution_count": 5,
   "id": "43b6d770-af9d-4599-82e9-0fbbe3e8c1d8",
   "metadata": {},
   "outputs": [],
   "source": [
    "#3Write a Python program to check if the given number is Happy Number?"
   ]
  },
  {
   "cell_type": "code",
   "execution_count": 6,
   "id": "e3edfd34-467f-4f7c-b930-77c2967116ac",
   "metadata": {},
   "outputs": [
    {
     "name": "stdin",
     "output_type": "stream",
     "text": [
      "Enter the number  13\n"
     ]
    },
    {
     "name": "stdout",
     "output_type": "stream",
     "text": [
      "Number is happy number\n"
     ]
    }
   ],
   "source": [
    "number = int(input(\"Enter the number \"))\n",
    "\n",
    "appeared = set()\n",
    "\n",
    "while number not in appeared:\n",
    "    appeared.add(number)\n",
    "    number = sum([int(x) **2 for x in str(number)])\n",
    "\n",
    "if number==1:\n",
    "    print(\"Number is happy number\")\n",
    "else:\n",
    "    print(\"Number is not happy number\")"
   ]
  },
  {
   "cell_type": "code",
   "execution_count": 7,
   "id": "b7efbc0a-de34-40e4-8898-ee29477b0f34",
   "metadata": {},
   "outputs": [],
   "source": [
    "#4Write a Python program to print all happy numbers between 1 and 100?"
   ]
  },
  {
   "cell_type": "code",
   "execution_count": 8,
   "id": "4f59dc31-e92a-458c-9a91-d40a66672c8f",
   "metadata": {},
   "outputs": [
    {
     "name": "stdout",
     "output_type": "stream",
     "text": [
      "1\n",
      "7\n",
      "10\n",
      "13\n",
      "19\n",
      "23\n",
      "28\n",
      "31\n",
      "32\n",
      "44\n",
      "49\n",
      "68\n",
      "70\n",
      "79\n",
      "82\n",
      "86\n",
      "91\n",
      "94\n",
      "97\n",
      "100\n"
     ]
    },
    {
     "data": {
      "text/plain": [
       "1"
      ]
     },
     "execution_count": 8,
     "metadata": {},
     "output_type": "execute_result"
    }
   ],
   "source": [
    "for i in range(1, 101):\n",
    "    number = i\n",
    "    appeared = set()\n",
    "\n",
    "    while number not in appeared:\n",
    "        appeared.add(number)\n",
    "        number = sum([int(x) ** 2 for x in str(number)])\n",
    "\n",
    "    if number == 1:\n",
    "        print(i)\n",
    "1"
   ]
  },
  {
   "cell_type": "code",
   "execution_count": 9,
   "id": "da2bad9d-3e0d-4c30-be81-7ea04d39d543",
   "metadata": {},
   "outputs": [],
   "source": [
    "#5Write a Python program to determine whether the given number is a Harshad Number?"
   ]
  },
  {
   "cell_type": "code",
   "execution_count": 10,
   "id": "5b1a7c79-a7ee-4450-b199-e32f981cdcfb",
   "metadata": {},
   "outputs": [
    {
     "name": "stdin",
     "output_type": "stream",
     "text": [
      "Enter number  34\n"
     ]
    },
    {
     "name": "stdout",
     "output_type": "stream",
     "text": [
      "number is not Harshad number\n"
     ]
    }
   ],
   "source": [
    "number = int(input(\"Enter number \"))\n",
    "\n",
    "total = 0\n",
    "n = number\n",
    "while n > 0:\n",
    "    total += n//10\n",
    "    n //= 10\n",
    "\n",
    "if number % total == 0:\n",
    "    print(\"Number is Harshad number\")\n",
    "else:\n",
    "    print(\"number is not Harshad number\")"
   ]
  },
  {
   "cell_type": "code",
   "execution_count": null,
   "id": "5c325925-93f2-4b7d-a694-18462efd4d4a",
   "metadata": {},
   "outputs": [],
   "source": []
  }
 ],
 "metadata": {
  "kernelspec": {
   "display_name": "Python 3 (ipykernel)",
   "language": "python",
   "name": "python3"
  },
  "language_info": {
   "codemirror_mode": {
    "name": "ipython",
    "version": 3
   },
   "file_extension": ".py",
   "mimetype": "text/x-python",
   "name": "python",
   "nbconvert_exporter": "python",
   "pygments_lexer": "ipython3",
   "version": "3.10.6"
  }
 },
 "nbformat": 4,
 "nbformat_minor": 5
}
