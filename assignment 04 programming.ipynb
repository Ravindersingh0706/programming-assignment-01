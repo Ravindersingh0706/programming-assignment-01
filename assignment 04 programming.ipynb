{
 "cells": [
  {
   "cell_type": "code",
   "execution_count": 1,
   "id": "f93d392a-48c1-4917-b013-763a72410ce3",
   "metadata": {},
   "outputs": [],
   "source": [
    "#!Write a Python Program to Find the Factorial of a Number?"
   ]
  },
  {
   "cell_type": "code",
   "execution_count": 2,
   "id": "417dca0c-f6d1-4923-9e8d-3181f53bf01b",
   "metadata": {},
   "outputs": [
    {
     "name": "stdin",
     "output_type": "stream",
     "text": [
      "Enter the number  12\n"
     ]
    },
    {
     "name": "stdout",
     "output_type": "stream",
     "text": [
      "479001600\n"
     ]
    }
   ],
   "source": [
    "number = int(input(\"Enter the number \"))\n",
    "fact = 1\n",
    "for i in range(number,0,-1):\n",
    "    fact *= i\n",
    "print(fact)"
   ]
  },
  {
   "cell_type": "code",
   "execution_count": 3,
   "id": "21428eca-060d-4298-a31c-1472c6c448e6",
   "metadata": {},
   "outputs": [],
   "source": [
    "#2Write a Python Program to Display the multiplication Table?"
   ]
  },
  {
   "cell_type": "code",
   "execution_count": 4,
   "id": "1cb030c5-5e80-4c8e-923b-59df27f57448",
   "metadata": {},
   "outputs": [
    {
     "name": "stdin",
     "output_type": "stream",
     "text": [
      "Enter the number  10\n"
     ]
    },
    {
     "name": "stdout",
     "output_type": "stream",
     "text": [
      "10 * 1 = 10\n",
      "10 * 2 = 20\n",
      "10 * 3 = 30\n",
      "10 * 4 = 40\n",
      "10 * 5 = 50\n",
      "10 * 6 = 60\n",
      "10 * 7 = 70\n",
      "10 * 8 = 80\n",
      "10 * 9 = 90\n",
      "10 * 10 = 100\n"
     ]
    }
   ],
   "source": [
    "number = int(input(\"Enter the number \"))\n",
    "for i in range(1,11):\n",
    "    print(number,\"*\",i,\"=\",number*i)"
   ]
  },
  {
   "cell_type": "code",
   "execution_count": 5,
   "id": "29f31c3d-ad87-430e-a803-0697b1f4127c",
   "metadata": {},
   "outputs": [],
   "source": [
    "#3Write a Python Program to Print the Fibonacci sequence?"
   ]
  },
  {
   "cell_type": "code",
   "execution_count": 6,
   "id": "22c5d25d-02dc-42dc-aa6b-8ee101b67d9f",
   "metadata": {},
   "outputs": [
    {
     "name": "stdin",
     "output_type": "stream",
     "text": [
      "Enter the number of terms of sequence  10\n"
     ]
    },
    {
     "name": "stdout",
     "output_type": "stream",
     "text": [
      "0 1 1 2 3 5 8 13 21 34 "
     ]
    }
   ],
   "source": [
    "n = int(input(\"Enter the number of terms of sequence \"))\n",
    "if n < 0:\n",
    "    print(\"Incorrect input\")\n",
    "elif n == 1:\n",
    "    print(0)\n",
    "else:\n",
    "    a = 0\n",
    "    b = 1\n",
    "    print(a, b, end=\" \")\n",
    "    for i in range(3, n+1):\n",
    "        a, b = b, a+b\n",
    "        print(b,end=\" \")"
   ]
  },
  {
   "cell_type": "code",
   "execution_count": 7,
   "id": "37d164d8-fadf-427f-b42d-73946b94daed",
   "metadata": {},
   "outputs": [],
   "source": [
    "#4Write a Python Program to Check Armstrong Number?"
   ]
  },
  {
   "cell_type": "code",
   "execution_count": 8,
   "id": "c182c973-f724-43fb-8327-4ac80232a723",
   "metadata": {},
   "outputs": [
    {
     "name": "stdin",
     "output_type": "stream",
     "text": [
      "Enter the number  365\n"
     ]
    },
    {
     "name": "stdout",
     "output_type": "stream",
     "text": [
      "365 is not Armstrong number\n"
     ]
    }
   ],
   "source": [
    "number = int(input(\"Enter the number \"))\n",
    "temp = number\n",
    "arm = 0\n",
    "while temp>0:\n",
    "    arm += (temp%10)**3\n",
    "    temp //= 10\n",
    "if arm == number:\n",
    "    print(number, \"is Armstrong number\")\n",
    "else:\n",
    "    print(number, \"is not Armstrong number\")"
   ]
  },
  {
   "cell_type": "code",
   "execution_count": 9,
   "id": "2b4407c8-4968-414b-8b53-73fbb292f2a8",
   "metadata": {},
   "outputs": [],
   "source": [
    "#5Write a Python Program to Find Armstrong Number in an Interval?"
   ]
  },
  {
   "cell_type": "code",
   "execution_count": 10,
   "id": "a0b2a309-5eaf-4111-876f-665eb54de5ae",
   "metadata": {},
   "outputs": [
    {
     "name": "stdin",
     "output_type": "stream",
     "text": [
      "Enter the number  20\n"
     ]
    },
    {
     "name": "stdout",
     "output_type": "stream",
     "text": [
      "0\n",
      "1\n"
     ]
    }
   ],
   "source": [
    "number = int(input(\"Enter the number \"))\n",
    "t = 0\n",
    "while t<=number:\n",
    "    temp = t\n",
    "    arm = 0\n",
    "    while temp>0:\n",
    "        arm += (temp%10)**3\n",
    "        temp //= 10\n",
    "    if arm == t:\n",
    "        print(t)\n",
    "    t += 1"
   ]
  }
 ],
 "metadata": {
  "kernelspec": {
   "display_name": "Python 3 (ipykernel)",
   "language": "python",
   "name": "python3"
  },
  "language_info": {
   "codemirror_mode": {
    "name": "ipython",
    "version": 3
   },
   "file_extension": ".py",
   "mimetype": "text/x-python",
   "name": "python",
   "nbconvert_exporter": "python",
   "pygments_lexer": "ipython3",
   "version": "3.10.6"
  }
 },
 "nbformat": 4,
 "nbformat_minor": 5
}
