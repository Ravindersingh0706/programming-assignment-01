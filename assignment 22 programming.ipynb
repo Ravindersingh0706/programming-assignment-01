{
 "cells": [
  {
   "cell_type": "code",
   "execution_count": 1,
   "id": "b63a95e5-e929-407c-9995-f85bec1e2627",
   "metadata": {},
   "outputs": [],
   "source": [
    "#Q1"
   ]
  },
  {
   "cell_type": "code",
   "execution_count": 2,
   "id": "6dab6ca3-e4a6-4bb6-b970-397fe79fd703",
   "metadata": {},
   "outputs": [
    {
     "name": "stdout",
     "output_type": "stream",
     "text": [
      "[3, 6, 9]\n"
     ]
    }
   ],
   "source": [
    "def list_operation(x,y,n):\n",
    "    result = []\n",
    "    for i in range(x,y+1):\n",
    "        if i %n == 0:\n",
    "            result.append(i)\n",
    "    return result\n",
    "\n",
    "print(list_operation(1, 10, 3))"
   ]
  },
  {
   "cell_type": "code",
   "execution_count": 3,
   "id": "99da3769-1b8f-4a5c-ac71-9f956b2c3e0e",
   "metadata": {},
   "outputs": [],
   "source": [
    "#Question2 "
   ]
  },
  {
   "cell_type": "code",
   "execution_count": 4,
   "id": "157c5adb-bce9-4cbd-8aef-9157b76af4ab",
   "metadata": {},
   "outputs": [
    {
     "name": "stdout",
     "output_type": "stream",
     "text": [
      "True\n"
     ]
    }
   ],
   "source": [
    "def simon_says(lst1, lst2):\n",
    "    return lst1[:len(lst1)-1]==lst2[1:]\n",
    "\n",
    "\n",
    "print(simon_says([1, 2, 3, 4, 5], [0, 1, 2, 3, 4]))"
   ]
  },
  {
   "cell_type": "code",
   "execution_count": 5,
   "id": "182f9024-5fdf-4e77-9d5b-a04ee77e8eec",
   "metadata": {},
   "outputs": [],
   "source": [
    "#Question3"
   ]
  },
  {
   "cell_type": "code",
   "execution_count": 6,
   "id": "f68dc3f9-7142-4231-a53e-93c681d8bd4c",
   "metadata": {},
   "outputs": [
    {
     "name": "stdout",
     "output_type": "stream",
     "text": [
      "AMS\n"
     ]
    }
   ],
   "source": [
    "def society_name(lst1):\n",
    "    result = []\n",
    "    for i in lst1:\n",
    "        result.append(i[0])\n",
    "    result.sort()\n",
    "    return \"\".join(result)\n",
    "\n",
    "\n",
    "print(society_name([\"Adam\",\"Sarah\",\"Malcolm\"]))"
   ]
  },
  {
   "cell_type": "code",
   "execution_count": 7,
   "id": "45ae64cf-c236-4bc4-9227-cc638d5a4b0b",
   "metadata": {},
   "outputs": [],
   "source": [
    "#4Question4 An isogram is a word that has no duplicate letters. Create a function that takes a string and returns \n",
    "#either True or False depending on whether or not it's an \"isogram\"."
   ]
  },
  {
   "cell_type": "code",
   "execution_count": 8,
   "id": "569ea94a-4359-4529-9d14-19e6b83d1d6f",
   "metadata": {},
   "outputs": [
    {
     "name": "stdout",
     "output_type": "stream",
     "text": [
      "True\n"
     ]
    }
   ],
   "source": [
    "def is_isogram(word):\n",
    "    word = word.lower()\n",
    "    for i in word:\n",
    "        if word.count(i)>1:\n",
    "            return False\n",
    "    else:\n",
    "        return True\n",
    "\n",
    "\n",
    "print(is_isogram(\"Algorism\"))"
   ]
  },
  {
   "cell_type": "code",
   "execution_count": 9,
   "id": "3827c07c-ee02-4462-8fb1-d8abf9eadad8",
   "metadata": {},
   "outputs": [],
   "source": [
    "#5 Create a function that takes a string and returns True or False, depending on whether the \n",
    "#characters are in order or not."
   ]
  },
  {
   "cell_type": "code",
   "execution_count": 10,
   "id": "b6bd4618-6f2c-427d-abb8-d17b15cf848c",
   "metadata": {},
   "outputs": [
    {
     "name": "stdout",
     "output_type": "stream",
     "text": [
      "True\n"
     ]
    }
   ],
   "source": [
    "def is_in_order(word):\n",
    "    A = list(word)\n",
    "    A.sort()\n",
    "    word1 = \"\".join(A)\n",
    "    return word==word1\n",
    "\n",
    "print(is_in_order(\"xyzz\"))"
   ]
  },
  {
   "cell_type": "code",
   "execution_count": null,
   "id": "bb0333b6-bed5-400e-b206-0e5b148dd60c",
   "metadata": {},
   "outputs": [],
   "source": []
  }
 ],
 "metadata": {
  "kernelspec": {
   "display_name": "Python 3 (ipykernel)",
   "language": "python",
   "name": "python3"
  },
  "language_info": {
   "codemirror_mode": {
    "name": "ipython",
    "version": 3
   },
   "file_extension": ".py",
   "mimetype": "text/x-python",
   "name": "python",
   "nbconvert_exporter": "python",
   "pygments_lexer": "ipython3",
   "version": "3.10.6"
  }
 },
 "nbformat": 4,
 "nbformat_minor": 5
}
