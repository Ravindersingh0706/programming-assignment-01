{
 "cells": [
  {
   "cell_type": "code",
   "execution_count": null,
   "id": "5a298115-a905-4824-84f9-ddc22078eb65",
   "metadata": {},
   "outputs": [],
   "source": [
    "#1Write a Python program to find sum of elements in list?"
   ]
  },
  {
   "cell_type": "code",
   "execution_count": 2,
   "id": "3e32bab7-ad3a-482b-acda-2446367cff86",
   "metadata": {},
   "outputs": [
    {
     "name": "stdin",
     "output_type": "stream",
     "text": [
      "Enter the elements separated by space  1 3 4 6\n"
     ]
    },
    {
     "name": "stdout",
     "output_type": "stream",
     "text": [
      "14\n"
     ]
    }
   ],
   "source": [
    "lst = list(map(int, input(\"Enter the elements separated by space \").split()))\n",
    "print(sum(lst))"
   ]
  },
  {
   "cell_type": "code",
   "execution_count": 3,
   "id": "b231b2c8-c7e3-4d3f-9f63-94f340157586",
   "metadata": {},
   "outputs": [],
   "source": [
    "#2Write a Python program to Multiply all numbers in the list?"
   ]
  },
  {
   "cell_type": "code",
   "execution_count": 4,
   "id": "d42e3806-eb9b-4d1d-9185-ac486b39da4d",
   "metadata": {},
   "outputs": [
    {
     "name": "stdin",
     "output_type": "stream",
     "text": [
      "Enter the elements separated by space  1 4 5 6 8\n"
     ]
    },
    {
     "name": "stdout",
     "output_type": "stream",
     "text": [
      "960\n"
     ]
    }
   ],
   "source": [
    "lst = list(map(int, input(\"Enter the elements separated by space \").split()))\n",
    "try:\n",
    "    product = lst[0]\n",
    "    for i in range(1, len(lst)):\n",
    "        product *= lst[i]\n",
    "    print(product)\n",
    "except:\n",
    "    print(\"Invalid input\")"
   ]
  },
  {
   "cell_type": "code",
   "execution_count": 5,
   "id": "da5922e0-7183-4f0b-92ff-3ea4344f2371",
   "metadata": {},
   "outputs": [],
   "source": [
    "#3Write a Python program to find smallest number in a list?"
   ]
  },
  {
   "cell_type": "code",
   "execution_count": 6,
   "id": "c7b49018-86b6-4312-89b3-ee4fdbd428d3",
   "metadata": {},
   "outputs": [
    {
     "name": "stdin",
     "output_type": "stream",
     "text": [
      "Enter the elements separated by space  3 5 6 7\n"
     ]
    },
    {
     "name": "stdout",
     "output_type": "stream",
     "text": [
      "3\n"
     ]
    }
   ],
   "source": [
    "lst = list(map(int, input(\"Enter the elements separated by space \").split()))\n",
    "print(min(lst))"
   ]
  },
  {
   "cell_type": "code",
   "execution_count": 7,
   "id": "d60f87e5-d2f5-451e-80d8-820c7b97f0a5",
   "metadata": {},
   "outputs": [],
   "source": [
    "#4Write a Python program to find largest number in a list?"
   ]
  },
  {
   "cell_type": "code",
   "execution_count": 8,
   "id": "aa18f840-cb64-4167-9e73-556894a3d3d4",
   "metadata": {},
   "outputs": [
    {
     "name": "stdin",
     "output_type": "stream",
     "text": [
      "Enter the elements separated by space  1 3 4 5\n"
     ]
    },
    {
     "name": "stdout",
     "output_type": "stream",
     "text": [
      "5\n"
     ]
    }
   ],
   "source": [
    "lst = list(map(int, input(\"Enter the elements separated by space \").split()))\n",
    "print(max(lst))"
   ]
  },
  {
   "cell_type": "code",
   "execution_count": 9,
   "id": "800ad982-80aa-4348-9d63-c12d2e720136",
   "metadata": {},
   "outputs": [],
   "source": [
    "#5Write a Python program to find second largest number in a list?"
   ]
  },
  {
   "cell_type": "code",
   "execution_count": 10,
   "id": "09eeaf23-07a5-46b0-8ab2-e2de3af7b53c",
   "metadata": {},
   "outputs": [
    {
     "name": "stdin",
     "output_type": "stream",
     "text": [
      "Enter the elements separated by space  1 5 8 5 23\n"
     ]
    },
    {
     "name": "stdout",
     "output_type": "stream",
     "text": [
      "8\n"
     ]
    }
   ],
   "source": [
    "lst = list(map(int, input(\"Enter the elements separated by space \").split()))\n",
    "if min(lst) == max(lst):\n",
    "    print(\"Second largest element doesnt exists\")\n",
    "else:\n",
    "    lst.sort()\n",
    "    for i in range(-2, -len(lst) - 1, -1):\n",
    "        if lst[i] < lst[i + 1]:\n",
    "            print(lst[i])\n",
    "            break"
   ]
  },
  {
   "cell_type": "code",
   "execution_count": 11,
   "id": "ba131037-0e5e-4956-b182-4389dc67bae7",
   "metadata": {},
   "outputs": [],
   "source": [
    "#6Write a Python program to find N largest elements from a list?"
   ]
  },
  {
   "cell_type": "code",
   "execution_count": 12,
   "id": "89193832-2805-4e50-be8e-fdff67ee4a8d",
   "metadata": {},
   "outputs": [
    {
     "name": "stdin",
     "output_type": "stream",
     "text": [
      "Enter the elements separated by space  1 5 3 7 9\n",
      "Enter the value of n  12\n"
     ]
    },
    {
     "name": "stdout",
     "output_type": "stream",
     "text": [
      "[9, 7, 5, 3, 1]\n"
     ]
    }
   ],
   "source": [
    "lst = list(map(int, input(\"Enter the elements separated by space \").split()))\n",
    "n = int(input(\"Enter the value of n \"))\n",
    "lst = list(set(lst))\n",
    "lst.sort(reverse=True)\n",
    "print(lst[:n])"
   ]
  },
  {
   "cell_type": "code",
   "execution_count": 13,
   "id": "d24c56d1-1e02-4791-ac83-9487cdeb7211",
   "metadata": {},
   "outputs": [],
   "source": [
    "#7Write a Python program to print even numbers in a list?"
   ]
  },
  {
   "cell_type": "code",
   "execution_count": 14,
   "id": "db67891c-cd68-4657-96f5-1db9c6c1bf06",
   "metadata": {},
   "outputs": [
    {
     "name": "stdin",
     "output_type": "stream",
     "text": [
      "Enter the elements separated by space  1 4 5 2\n"
     ]
    },
    {
     "name": "stdout",
     "output_type": "stream",
     "text": [
      "4\n",
      "2\n"
     ]
    }
   ],
   "source": [
    "lst = list(map(int, input(\"Enter the elements separated by space \").split()))\n",
    "for i in lst:\n",
    "    if i%2==0:\n",
    "        print(i)"
   ]
  },
  {
   "cell_type": "code",
   "execution_count": 15,
   "id": "f0d2e671-84f0-4fc4-b184-5fbfc3d0034f",
   "metadata": {},
   "outputs": [],
   "source": [
    "#8Write a Python program to print odd numbers in a List?"
   ]
  },
  {
   "cell_type": "code",
   "execution_count": 16,
   "id": "47d1db5e-97ef-4ed4-82f9-9411b31dd99a",
   "metadata": {},
   "outputs": [
    {
     "name": "stdin",
     "output_type": "stream",
     "text": [
      "Enter the elements separated by space  89\n"
     ]
    },
    {
     "name": "stdout",
     "output_type": "stream",
     "text": [
      "1\n",
      "5\n"
     ]
    }
   ],
   "source": [
    "st = list(map(int, input(\"Enter the elements separated by space \").split()))\n",
    "for i in lst:\n",
    "    if i%2!=0:\n",
    "        print(i)"
   ]
  },
  {
   "cell_type": "code",
   "execution_count": 17,
   "id": "3d67115e-6a20-4eaf-a9f5-a65cf724a112",
   "metadata": {},
   "outputs": [],
   "source": [
    "#9Write a Python program to Remove empty List from List?"
   ]
  },
  {
   "cell_type": "code",
   "execution_count": 18,
   "id": "08328fbe-6258-4bd2-a1bd-fc354db64220",
   "metadata": {},
   "outputs": [
    {
     "name": "stdout",
     "output_type": "stream",
     "text": [
      "[[1, 2, 3], [3, 4, 5, 6], [7, 8, 9]]\n"
     ]
    }
   ],
   "source": [
    "lst = [[1,2,3],[],[],[3,4,5,6],[7,8,9],[]]\n",
    "\n",
    "while [] in lst:\n",
    "    lst.remove([])\n",
    "print(lst)"
   ]
  },
  {
   "cell_type": "code",
   "execution_count": null,
   "id": "79c61923-811f-4907-9272-a79e54e26cc2",
   "metadata": {},
   "outputs": [],
   "source": [
    "#10Write a Python program to Cloning or Copying a list?"
   ]
  },
  {
   "cell_type": "code",
   "execution_count": null,
   "id": "4338fff0-2b90-41cb-a392-0e77f37b2e89",
   "metadata": {},
   "outputs": [],
   "source": [
    "original_list = [1, 2, 3, 4, 5]\n",
    "copied_list = list(original_list)\n",
    "\n",
    "print(\"Original list:\", original_list)\n",
    "print(\"Copied list:\", copied_list)"
   ]
  },
  {
   "cell_type": "code",
   "execution_count": null,
   "id": "eeb763b6-c70a-4bf5-8fc8-afb70e9217e1",
   "metadata": {},
   "outputs": [],
   "source": [
    "#12Write a Python program to Count occurrences of an element in a list?"
   ]
  },
  {
   "cell_type": "code",
   "execution_count": null,
   "id": "4f36715b-1cbe-4ef4-9df2-fa0b42f148dd",
   "metadata": {},
   "outputs": [],
   "source": [
    "lst = list(map(int, input(\"Enter the elements separated by space \").split()))\n",
    "n = int(input(\"Enter the number to be found \"))\n",
    "print(lst.count(n))"
   ]
  },
  {
   "cell_type": "code",
   "execution_count": null,
   "id": "b53fc50e-8c3f-40d3-9c0b-cbb979256741",
   "metadata": {},
   "outputs": [],
   "source": [
    "\""
   ]
  }
 ],
 "metadata": {
  "kernelspec": {
   "display_name": "Python 3 (ipykernel)",
   "language": "python",
   "name": "python3"
  },
  "language_info": {
   "codemirror_mode": {
    "name": "ipython",
    "version": 3
   },
   "file_extension": ".py",
   "mimetype": "text/x-python",
   "name": "python",
   "nbconvert_exporter": "python",
   "pygments_lexer": "ipython3",
   "version": "3.10.6"
  }
 },
 "nbformat": 4,
 "nbformat_minor": 5
}
