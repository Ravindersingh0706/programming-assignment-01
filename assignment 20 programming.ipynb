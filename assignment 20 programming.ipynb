{
 "cells": [
  {
   "cell_type": "code",
   "execution_count": 1,
   "id": "5024ef4d-1cda-4e1a-8c7b-fb3a81340228",
   "metadata": {},
   "outputs": [],
   "source": [
    "#1Create a function that takes a list of strings and integers, and filters out the list so that it returns a list of \n",
    "#integers only."
   ]
  },
  {
   "cell_type": "code",
   "execution_count": 2,
   "id": "20be4caf-2b1d-477f-a021-c01d9fdadef3",
   "metadata": {},
   "outputs": [
    {
     "name": "stdout",
     "output_type": "stream",
     "text": [
      "[1, 2]\n"
     ]
    }
   ],
   "source": [
    "def filter_list(lst):\n",
    "    result = []\n",
    "    for i in lst:\n",
    "        if str(i).isdigit():\n",
    "            result.append(i)\n",
    "    return result\n",
    "\n",
    "\n",
    "print(filter_list([1,2,\"a\",\"b\"]))"
   ]
  },
  {
   "cell_type": "code",
   "execution_count": 3,
   "id": "4c78da13-3605-4265-bb9c-cf450fb9c166",
   "metadata": {},
   "outputs": [],
   "source": [
    "#2Question2 Given a list of numbers, create a function which returns the list but with each element's \n",
    "#index in the list added to itself. This means you add 0 to the number at index 0,add 1 to the number at index 1, etc..."
   ]
  },
  {
   "cell_type": "code",
   "execution_count": 4,
   "id": "7d8508a9-96ae-42b8-99b9-dba4708ac863",
   "metadata": {},
   "outputs": [
    {
     "name": "stdout",
     "output_type": "stream",
     "text": [
      "[1, 3, 5, 7, 9]\n"
     ]
    }
   ],
   "source": [
    "def add_indexes(lst):\n",
    "    for index,value in enumerate(lst):\n",
    "        lst[index] = index+value\n",
    "    return lst\n",
    "\n",
    "print(add_indexes([1, 2, 3, 4, 5]))"
   ]
  },
  {
   "cell_type": "code",
   "execution_count": 5,
   "id": "4c9181cc-0cb7-4e46-a19b-977ffb55baf8",
   "metadata": {},
   "outputs": [],
   "source": [
    "#3 Create a function that takes the height and radius of a cone as arguments and returns the volume of the cone \n",
    "#rounded to the nearest hundredth. See the resources tab for the formula."
   ]
  },
  {
   "cell_type": "code",
   "execution_count": 6,
   "id": "9c288cb7-5a93-460a-9cff-6df5fa6ae997",
   "metadata": {},
   "outputs": [
    {
     "name": "stdout",
     "output_type": "stream",
     "text": [
      "565.49\n"
     ]
    }
   ],
   "source": [
    "import math\n",
    "\n",
    "def cone_volume(h,r):\n",
    "    return round(math.pi*(r**2)*h/3,2)\n",
    "\n",
    "print(cone_volume(15, 6))"
   ]
  },
  {
   "cell_type": "code",
   "execution_count": 7,
   "id": "e0fcc93f-173b-4dd7-8ba6-1068516df325",
   "metadata": {},
   "outputs": [],
   "source": [
    "#4Write a function that gives the number of dots with its corresponding triangle number of the sequence."
   ]
  },
  {
   "cell_type": "code",
   "execution_count": 8,
   "id": "3bfd5ce5-6a2e-4566-846e-fc579fd6234a",
   "metadata": {},
   "outputs": [
    {
     "name": "stdout",
     "output_type": "stream",
     "text": [
      "21\n"
     ]
    }
   ],
   "source": [
    "def triangle(n):\n",
    "    number = 0\n",
    "    for i in range(1, n+1):\n",
    "        number += i\n",
    "    return number\n",
    "\n",
    "print(triangle(6))"
   ]
  },
  {
   "cell_type": "code",
   "execution_count": null,
   "id": "aed71a0d-65eb-40fa-8051-96e4e29bb723",
   "metadata": {},
   "outputs": [],
   "source": []
  }
 ],
 "metadata": {
  "kernelspec": {
   "display_name": "Python 3 (ipykernel)",
   "language": "python",
   "name": "python3"
  },
  "language_info": {
   "codemirror_mode": {
    "name": "ipython",
    "version": 3
   },
   "file_extension": ".py",
   "mimetype": "text/x-python",
   "name": "python",
   "nbconvert_exporter": "python",
   "pygments_lexer": "ipython3",
   "version": "3.10.6"
  }
 },
 "nbformat": 4,
 "nbformat_minor": 5
}
