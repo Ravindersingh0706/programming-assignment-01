{
 "cells": [
  {
   "cell_type": "code",
   "execution_count": 1,
   "id": "20115914-4de4-4b36-84c6-c16d6aa004a4",
   "metadata": {},
   "outputs": [],
   "source": [
    "# Question 1"
   ]
  },
  {
   "cell_type": "code",
   "execution_count": 2,
   "id": "e7378587-0cca-40e0-9968-abddcc8402d2",
   "metadata": {},
   "outputs": [
    {
     "name": "stdout",
     "output_type": "stream",
     "text": [
      "False\n"
     ]
    }
   ],
   "source": [
    "def is_symmetrical(N):\n",
    "    N = str(N)\n",
    "    return N==N[::-1]\n",
    "\n",
    "print(is_symmetrical(9939))"
   ]
  },
  {
   "cell_type": "code",
   "execution_count": 3,
   "id": "11274c3a-9336-473c-bc7b-40af0c7251a0",
   "metadata": {},
   "outputs": [],
   "source": [
    "#Question 2 Given a string of numbers separated by a comma and space, return the product of the numbers."
   ]
  },
  {
   "cell_type": "code",
   "execution_count": 4,
   "id": "e085d4f1-d31d-457c-bc90-80595e18f323",
   "metadata": {},
   "outputs": [
    {
     "name": "stdout",
     "output_type": "stream",
     "text": [
      "24\n"
     ]
    }
   ],
   "source": [
    "def multiply_nums(number):\n",
    "    lst = list(map(int,number.split(\",\")))\n",
    "    product = 1\n",
    "    for i in lst:\n",
    "        product *= i\n",
    "    return product\n",
    "\n",
    "print(multiply_nums(\"1, 2, 3, 4\"))"
   ]
  },
  {
   "cell_type": "code",
   "execution_count": 5,
   "id": "befa4f86-17af-41b5-8767-2928d9233cbe",
   "metadata": {},
   "outputs": [],
   "source": [
    "#Question 3 Create a function that sorts a list and removes all duplicate items from it."
   ]
  },
  {
   "cell_type": "code",
   "execution_count": 6,
   "id": "bbc7162e-43e6-43ed-9810-c94ce137d9bd",
   "metadata": {},
   "outputs": [
    {
     "name": "stdout",
     "output_type": "stream",
     "text": [
      "[1, 3, 5]\n"
     ]
    }
   ],
   "source": [
    "def setify(lst):\n",
    "    lst = list(set(lst))\n",
    "    lst.sort()\n",
    "    return lst\n",
    "\n",
    "print(setify([1, 3, 3, 5, 5]))"
   ]
  },
  {
   "cell_type": "code",
   "execution_count": 7,
   "id": "4da9a588-86a4-485c-99ad-5f0913e71ea3",
   "metadata": {},
   "outputs": [],
   "source": [
    "#4Create a function that squares every digit of a number."
   ]
  },
  {
   "cell_type": "code",
   "execution_count": 8,
   "id": "55a2b8d7-2aed-4f4b-860c-1fe5a7249963",
   "metadata": {},
   "outputs": [
    {
     "name": "stdout",
     "output_type": "stream",
     "text": [
      "811181\n"
     ]
    }
   ],
   "source": [
    "def square_digits(N):\n",
    "    N = str(N)\n",
    "    result = \"\"\n",
    "    for i in N:\n",
    "        result += str(int(i)**2)\n",
    "    return result\n",
    "\n",
    "print(square_digits(9119))"
   ]
  },
  {
   "cell_type": "code",
   "execution_count": 9,
   "id": "7e03ded1-4e7c-4f2b-a2ac-ddf188d8424c",
   "metadata": {},
   "outputs": [],
   "source": [
    "#5Create a function that returns the mean of all digits."
   ]
  },
  {
   "cell_type": "code",
   "execution_count": 10,
   "id": "df089d4f-f07c-4357-bb73-01cb7a52bd40",
   "metadata": {},
   "outputs": [
    {
     "name": "stdout",
     "output_type": "stream",
     "text": [
      "3\n"
     ]
    }
   ],
   "source": [
    "def mean(N):\n",
    "    N = str(N)\n",
    "    sum1 = 0\n",
    "    for i in N:\n",
    "        sum1 += int(i)\n",
    "    return sum1//len(N)\n",
    "\n",
    "print(mean(42))"
   ]
  },
  {
   "cell_type": "code",
   "execution_count": null,
   "id": "eb6851de-9e60-4761-87fa-ba226f7f2e37",
   "metadata": {},
   "outputs": [],
   "source": []
  }
 ],
 "metadata": {
  "kernelspec": {
   "display_name": "Python 3 (ipykernel)",
   "language": "python",
   "name": "python3"
  },
  "language_info": {
   "codemirror_mode": {
    "name": "ipython",
    "version": 3
   },
   "file_extension": ".py",
   "mimetype": "text/x-python",
   "name": "python",
   "nbconvert_exporter": "python",
   "pygments_lexer": "ipython3",
   "version": "3.10.6"
  }
 },
 "nbformat": 4,
 "nbformat_minor": 5
}
