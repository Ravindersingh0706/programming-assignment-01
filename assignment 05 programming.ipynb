{
 "cells": [
  {
   "cell_type": "code",
   "execution_count": 1,
   "id": "a3f96493-a1dc-479b-ad29-ce00c16b336e",
   "metadata": {},
   "outputs": [],
   "source": [
    "#1Write a Python Program to Find LCM?"
   ]
  },
  {
   "cell_type": "code",
   "execution_count": 2,
   "id": "fa809846-2c36-4cbc-98df-31c7e7ddff55",
   "metadata": {},
   "outputs": [
    {
     "name": "stdin",
     "output_type": "stream",
     "text": [
      "Enter first number  10\n",
      "Enter second numebr  20\n"
     ]
    },
    {
     "name": "stdout",
     "output_type": "stream",
     "text": [
      "20\n"
     ]
    }
   ],
   "source": [
    "A = int(input(\"Enter first number \"))\n",
    "B = int(input(\"Enter second numebr \"))\n",
    "low = min(A, B)\n",
    "for i in range(low, 0, -1):\n",
    "    if A % i == 0 and B % i == 0:\n",
    "        HCF = i\n",
    "        break\n",
    "LCM = A*B//HCF\n",
    "print(LCM)"
   ]
  },
  {
   "cell_type": "code",
   "execution_count": 3,
   "id": "cc3ce029-c73e-49a9-86a1-38d3b6d3f695",
   "metadata": {},
   "outputs": [],
   "source": [
    "#2Write a Python Program to Find HCF?"
   ]
  },
  {
   "cell_type": "code",
   "execution_count": 4,
   "id": "d14da47f-ce9a-485d-b1f5-0c357be00d41",
   "metadata": {},
   "outputs": [
    {
     "name": "stdin",
     "output_type": "stream",
     "text": [
      "Enter first number  12\n",
      "Enter second numebr  324\n"
     ]
    },
    {
     "name": "stdout",
     "output_type": "stream",
     "text": [
      "12\n"
     ]
    }
   ],
   "source": [
    "A = int(input(\"Enter first number \"))\n",
    "B = int(input(\"Enter second numebr \"))\n",
    "low = min(A, B)\n",
    "for i in range(low, 0, -1):\n",
    "    if A % i == 0 and B % i == 0:\n",
    "        print(i)\n",
    "        break"
   ]
  },
  {
   "cell_type": "code",
   "execution_count": 5,
   "id": "c0aa633c-0f44-44f3-bf19-20a0c633f8a1",
   "metadata": {},
   "outputs": [],
   "source": [
    "#3Write a Python Program to Convert Decimal to Binary, Octal and Hexadecimal?"
   ]
  },
  {
   "cell_type": "code",
   "execution_count": 6,
   "id": "ed0cb513-0b40-40d9-a338-e9891f57c8c9",
   "metadata": {},
   "outputs": [
    {
     "name": "stdin",
     "output_type": "stream",
     "text": [
      "Enter the decimal number  12\n"
     ]
    },
    {
     "name": "stdout",
     "output_type": "stream",
     "text": [
      "Binary =  1100\n",
      "Octal =  14\n",
      "Hexadecimal =  12\n"
     ]
    }
   ],
   "source": [
    "main_number = int(input(\"Enter the decimal number \"))\n",
    "\n",
    "number = main_number\n",
    "binary = \"\"\n",
    "while number > 0:\n",
    "    binary = str(number % 2) + binary\n",
    "    number //= 2\n",
    "print(\"Binary = \", binary)\n",
    "\n",
    "number = main_number\n",
    "octal = \"\"\n",
    "while number > 0:\n",
    "    octal = str(number % 8) + octal\n",
    "    number //= 8\n",
    "print(\"Octal = \", octal)\n",
    "\n",
    "number = main_number\n",
    "hexa = \"\"\n",
    "while number > 0:\n",
    "    hexa = str(number % 16) + hexa\n",
    "    number //= 16\n",
    "print(\"Hexadecimal = \", hexa)"
   ]
  },
  {
   "cell_type": "code",
   "execution_count": 7,
   "id": "9fb556e9-1354-4992-b4e3-4ea2a5dc02b6",
   "metadata": {},
   "outputs": [],
   "source": [
    "#4Write a Python Program To Find ASCII value of a character?"
   ]
  },
  {
   "cell_type": "code",
   "execution_count": 6,
   "id": "ae3b8255-baf3-481d-be10-9b14aa43bcf6",
   "metadata": {},
   "outputs": [
    {
     "name": "stdin",
     "output_type": "stream",
     "text": [
      "Enter a character:  B\n"
     ]
    },
    {
     "name": "stdout",
     "output_type": "stream",
     "text": [
      "The ASCII value of B is 66\n"
     ]
    }
   ],
   "source": [
    "char = input(\"Enter a character: \")\n",
    "ascii_value = ord(char)\n",
    "print(\"The ASCII value of {} is {}\".format(char, ascii_value))"
   ]
  },
  {
   "cell_type": "code",
   "execution_count": 7,
   "id": "1b7c6215-f832-410d-bd97-78edc4770405",
   "metadata": {},
   "outputs": [],
   "source": [
    "#5Write a Python Program to Make a Simple Calculator with 4 basic mathematical operations?\n"
   ]
  },
  {
   "cell_type": "code",
   "execution_count": 8,
   "id": "3d93d880-e554-4b7f-8bfb-ec0c1a053d15",
   "metadata": {},
   "outputs": [
    {
     "name": "stdout",
     "output_type": "stream",
     "text": [
      "1. Addition\n",
      "2. Subtraction\n",
      "3. Multiplication\n",
      "4. Division\n",
      "Press any other key to exit \n"
     ]
    },
    {
     "name": "stdin",
     "output_type": "stream",
     "text": [
      " 1\n",
      "Enter the first number  34\n",
      "Enter the second number  65\n"
     ]
    },
    {
     "name": "stdout",
     "output_type": "stream",
     "text": [
      "Output 99\n",
      "1. Addition\n",
      "2. Subtraction\n",
      "3. Multiplication\n",
      "4. Division\n",
      "Press any other key to exit \n"
     ]
    },
    {
     "name": "stdin",
     "output_type": "stream",
     "text": [
      " 67\n"
     ]
    }
   ],
   "source": [
    "while True:\n",
    "    print(\"1. Addition\")\n",
    "    print(\"2. Subtraction\")\n",
    "    print(\"3. Multiplication\")\n",
    "    print(\"4. Division\")\n",
    "    print(\"Press any other key to exit \")\n",
    "\n",
    "    choice = int(input())\n",
    "\n",
    "    if choice == 1:\n",
    "        number1 = int(input(\"Enter the first number \"))\n",
    "        number2 = int(input(\"Enter the second number \"))\n",
    "        print(\"Output\",number1+number2)\n",
    "    elif choice == 2:\n",
    "        number1 = int(input(\"Enter the first number \"))\n",
    "        number2 = int(input(\"Enter the second number \"))\n",
    "        print(\"Output\",number1 - number2)\n",
    "    elif choice == 3:\n",
    "        number1 = int(input(\"Enter the first number \"))\n",
    "        number2 = int(input(\"Enter the second number \"))\n",
    "        print(\"Output\",number1 * number2)\n",
    "    elif choice == 4:\n",
    "        number1 = int(input(\"Enter the first number \"))\n",
    "        number2 = int(input(\"Enter the second number \"))\n",
    "        print(\"Output\",number1/number2)\n",
    "    else:\n",
    "        break"
   ]
  }
 ],
 "metadata": {
  "kernelspec": {
   "display_name": "Python 3 (ipykernel)",
   "language": "python",
   "name": "python3"
  },
  "language_info": {
   "codemirror_mode": {
    "name": "ipython",
    "version": 3
   },
   "file_extension": ".py",
   "mimetype": "text/x-python",
   "name": "python",
   "nbconvert_exporter": "python",
   "pygments_lexer": "ipython3",
   "version": "3.10.6"
  }
 },
 "nbformat": 4,
 "nbformat_minor": 5
}
