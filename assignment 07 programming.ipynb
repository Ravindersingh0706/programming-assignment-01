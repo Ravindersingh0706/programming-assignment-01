{
 "cells": [
  {
   "cell_type": "code",
   "execution_count": 1,
   "id": "e94c8786-77c3-49c0-9f3f-383df165fffe",
   "metadata": {},
   "outputs": [],
   "source": [
    "#1Write a Python Program to find sum of array?"
   ]
  },
  {
   "cell_type": "code",
   "execution_count": 2,
   "id": "0c628b03-3f45-427b-ac45-039a8ca2e3f2",
   "metadata": {},
   "outputs": [
    {
     "name": "stdin",
     "output_type": "stream",
     "text": [
      "Enter the elements separated by space 1 2 3 4\n"
     ]
    },
    {
     "name": "stdout",
     "output_type": "stream",
     "text": [
      "10\n"
     ]
    }
   ],
   "source": [
    "lst = list(map(int,input(\"Enter the elements separated by space\").split()))\n",
    "print(sum(lst))"
   ]
  },
  {
   "cell_type": "code",
   "execution_count": 3,
   "id": "c65f6b8c-31c5-4d99-9022-b005c2f5ebbc",
   "metadata": {},
   "outputs": [],
   "source": [
    "#2Write a Python Program to find largest element in an array?"
   ]
  },
  {
   "cell_type": "code",
   "execution_count": 4,
   "id": "fef7307d-82fd-49bb-8b92-79f06dddf542",
   "metadata": {},
   "outputs": [
    {
     "name": "stdin",
     "output_type": "stream",
     "text": [
      "Enter the elements separated by space 1 2 3 4\n"
     ]
    },
    {
     "name": "stdout",
     "output_type": "stream",
     "text": [
      "4\n"
     ]
    }
   ],
   "source": [
    "lst = list(map(int,input(\"Enter the elements separated by space\").split()))\n",
    "print(max(lst))"
   ]
  },
  {
   "cell_type": "code",
   "execution_count": 5,
   "id": "9bb8d8b1-1dd9-4064-8e5f-35a48fb55ad4",
   "metadata": {},
   "outputs": [],
   "source": [
    "#3Write a Python Program for array rotation?"
   ]
  },
  {
   "cell_type": "code",
   "execution_count": 6,
   "id": "1687d0b0-36f0-422f-a7d6-564a83595e84",
   "metadata": {},
   "outputs": [
    {
     "name": "stdin",
     "output_type": "stream",
     "text": [
      "Enter the elements separated by space 1 4 6 7\n",
      "Enter the number of rotations  6\n"
     ]
    },
    {
     "name": "stdout",
     "output_type": "stream",
     "text": [
      "[6, 7, 1, 4]\n"
     ]
    }
   ],
   "source": [
    "lst = list(map(int,input(\"Enter the elements separated by space\").split()))\n",
    "n = int(input(\"Enter the number of rotations \"))\n",
    "print(lst[len(lst)-n:]+lst[:len(lst)-n])"
   ]
  },
  {
   "cell_type": "code",
   "execution_count": 7,
   "id": "26004ad8-8926-4a49-acd6-c869e9115462",
   "metadata": {},
   "outputs": [],
   "source": [
    "#4Write a Python Program to Split the array and add the first part to the end?"
   ]
  },
  {
   "cell_type": "code",
   "execution_count": null,
   "id": "bb41f73b-f801-47b8-829f-a6596e979be7",
   "metadata": {},
   "outputs": [],
   "source": [
    "lst = list(map(int,input(\"Enter the elements separated by space\").split()))\n",
    "if len(lst)%2==0:\n",
    "    mid = len(lst)//2\n",
    "else:\n",
    "    mid = len(lst)//2+1\n",
    "print(lst[mid:]+lst[:mid])"
   ]
  },
  {
   "cell_type": "code",
   "execution_count": null,
   "id": "b63634ef-cee0-4eb9-8132-809e5d79233a",
   "metadata": {},
   "outputs": [],
   "source": []
  }
 ],
 "metadata": {
  "kernelspec": {
   "display_name": "Python 3 (ipykernel)",
   "language": "python",
   "name": "python3"
  },
  "language_info": {
   "codemirror_mode": {
    "name": "ipython",
    "version": 3
   },
   "file_extension": ".py",
   "mimetype": "text/x-python",
   "name": "python",
   "nbconvert_exporter": "python",
   "pygments_lexer": "ipython3",
   "version": "3.10.6"
  }
 },
 "nbformat": 4,
 "nbformat_minor": 5
}
