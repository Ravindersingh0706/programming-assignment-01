{
 "cells": [
  {
   "cell_type": "code",
   "execution_count": 2,
   "id": "cf55f367-3e15-4ea0-af8e-c8944758fd9a",
   "metadata": {},
   "outputs": [],
   "source": [
    "#Q1"
   ]
  },
  {
   "cell_type": "code",
   "execution_count": 3,
   "id": "0fbc0cf9-a2b3-41ce-85dc-9e1b0d74fa01",
   "metadata": {},
   "outputs": [
    {
     "name": "stdout",
     "output_type": "stream",
     "text": [
      "[10, 20, 42, 6]\n"
     ]
    }
   ],
   "source": [
    "def next_in_line(lst,num):\n",
    "    if len(lst)!=0:\n",
    "        return lst[1:]+[num]\n",
    "    else:\n",
    "        return \"No list has been selected\"\n",
    "\n",
    "\n",
    "print(next_in_line([1, 10, 20, 42 ], 6))"
   ]
  },
  {
   "cell_type": "code",
   "execution_count": 5,
   "id": "c1f88d67-7e5e-4ff8-aaa9-1b8a81b2a161",
   "metadata": {},
   "outputs": [],
   "source": [
    "#Q2Create the function that takes a list of dictionaries and returns the sum of people's budgets."
   ]
  },
  {
   "cell_type": "code",
   "execution_count": 6,
   "id": "c575a59f-b922-4c16-9489-bba319fa7f5b",
   "metadata": {},
   "outputs": [
    {
     "name": "stdout",
     "output_type": "stream",
     "text": [
      "63000\n"
     ]
    }
   ],
   "source": [
    "def get_budget(lst):\n",
    "    total = 0\n",
    "    for i in lst:\n",
    "        total += i[\"budget\"]\n",
    "    return total\n",
    "\n",
    "\n",
    "print(get_budget([{\"name\":\"John\", \"age\": 21,\"budget\":23000 },{\"name\":\"Steve\", \"age\": 42,\"budget\":40000}]))\n"
   ]
  },
  {
   "cell_type": "code",
   "execution_count": 7,
   "id": "8dba00c6-6954-48ae-a0a4-218b16637157",
   "metadata": {},
   "outputs": [],
   "source": [
    "#3Create a function that takes a string and returns a string with its letters in alphabetical order."
   ]
  },
  {
   "cell_type": "code",
   "execution_count": 8,
   "id": "96c413d7-6a98-4d59-a766-d0cfefc4d61a",
   "metadata": {},
   "outputs": [
    {
     "name": "stdout",
     "output_type": "stream",
     "text": [
      "ehllo\n"
     ]
    }
   ],
   "source": [
    "def alphabet_soup(word):\n",
    "\n",
    "    return \"\".join(sorted(word))\n",
    "\n",
    "print(alphabet_soup(\"hello\"))"
   ]
  },
  {
   "cell_type": "code",
   "execution_count": 9,
   "id": "a9f4332e-d278-46cd-893f-8d8a5f1e56dd",
   "metadata": {},
   "outputs": [],
   "source": [
    "#Q4"
   ]
  },
  {
   "cell_type": "code",
   "execution_count": 10,
   "id": "6ca44408-5b5d-4699-b22e-3367a33d47db",
   "metadata": {},
   "outputs": [
    {
     "name": "stdout",
     "output_type": "stream",
     "text": [
      "15399.26\n"
     ]
    }
   ],
   "source": [
    "def compound_interest(p,t,r,n):\n",
    "    return round(p*((1+(r/n))**(n*t)),2)\n",
    "\n",
    "print(compound_interest(3500, 15, 0.1, 4))"
   ]
  },
  {
   "cell_type": "code",
   "execution_count": 11,
   "id": "ed3d1db9-9048-4bf7-8fac-38da56a7fab6",
   "metadata": {},
   "outputs": [],
   "source": [
    "#5Write a function that takes a list of elements and returns only the integers."
   ]
  },
  {
   "cell_type": "code",
   "execution_count": 12,
   "id": "ce6ad077-ab90-4238-acad-9c255eb8b920",
   "metadata": {},
   "outputs": [
    {
     "name": "stdout",
     "output_type": "stream",
     "text": [
      "[1, 2]\n"
     ]
    }
   ],
   "source": [
    "def filter_list(lst):\n",
    "    result = []\n",
    "    for i in lst:\n",
    "        if str(i).isdigit():\n",
    "            result.append(i)\n",
    "    return result\n",
    "\n",
    "\n",
    "print(filter_list([1,2,\"a\",\"b\"]))"
   ]
  },
  {
   "cell_type": "code",
   "execution_count": null,
   "id": "27482717-c10c-4db9-90fe-310868bfbfb0",
   "metadata": {},
   "outputs": [],
   "source": []
  }
 ],
 "metadata": {
  "kernelspec": {
   "display_name": "Python 3 (ipykernel)",
   "language": "python",
   "name": "python3"
  },
  "language_info": {
   "codemirror_mode": {
    "name": "ipython",
    "version": 3
   },
   "file_extension": ".py",
   "mimetype": "text/x-python",
   "name": "python",
   "nbconvert_exporter": "python",
   "pygments_lexer": "ipython3",
   "version": "3.10.6"
  }
 },
 "nbformat": 4,
 "nbformat_minor": 5
}
