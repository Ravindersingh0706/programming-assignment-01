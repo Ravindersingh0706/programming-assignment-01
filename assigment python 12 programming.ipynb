{
 "cells": [
  {
   "cell_type": "code",
   "execution_count": 1,
   "id": "9b81038a-b440-44f6-bd88-c145ec99a808",
   "metadata": {},
   "outputs": [],
   "source": [
    "#1Write a Python program to Extract Unique values dictionary values?"
   ]
  },
  {
   "cell_type": "code",
   "execution_count": 2,
   "id": "7982edab-a4e5-4007-a1ad-fd517498c307",
   "metadata": {},
   "outputs": [
    {
     "name": "stdout",
     "output_type": "stream",
     "text": [
      "{'apple', 'potato', 'cherry'}\n"
     ]
    }
   ],
   "source": [
    "def unique(dict):\n",
    "    values = set([value for value in dict.values()])\n",
    "    print(values)\n",
    "\n",
    "d = {1:\"apple\",2:\"potato\",3:\"apple\",4:\"cherry\"}\n",
    "unique(d)"
   ]
  },
  {
   "cell_type": "code",
   "execution_count": 3,
   "id": "79cd8e55-9e3a-4edb-aa79-017f4a42df23",
   "metadata": {},
   "outputs": [],
   "source": [
    "#2Write a Python program to find the sum of all items in a dictionary?"
   ]
  },
  {
   "cell_type": "code",
   "execution_count": 4,
   "id": "0ca94550-7e24-4d47-b3b0-d14c9676f370",
   "metadata": {},
   "outputs": [
    {
     "name": "stdout",
     "output_type": "stream",
     "text": [
      "10\n"
     ]
    }
   ],
   "source": [
    "def unique(dict):\n",
    "    values = sum([value for value in dict.keys()])\n",
    "    print(values)\n",
    "\n",
    "d = {1:\"apple\",2:\"potato\",3:\"apple\",4:\"cherry\"}\n",
    "unique(d)"
   ]
  },
  {
   "cell_type": "code",
   "execution_count": 5,
   "id": "2651748a-7fff-4be9-9c8b-8793eac31462",
   "metadata": {},
   "outputs": [],
   "source": [
    "#3Write a Python program to Merging two Dictionaries?"
   ]
  },
  {
   "cell_type": "code",
   "execution_count": 6,
   "id": "4bba1cda-1386-4f08-90f9-b9936e1bcad2",
   "metadata": {},
   "outputs": [
    {
     "name": "stdout",
     "output_type": "stream",
     "text": [
      "{1: 'apple', 2: 'potato', 3: 'apple', 4: 'cherry'}\n"
     ]
    }
   ],
   "source": [
    "d = {1:\"apple\",2:\"potato\"}\n",
    "d2 = {3:\"apple\",4:\"cherry\"}\n",
    "for i in d2.keys():\n",
    "    d[i]=d2[i]\n",
    "print(d)"
   ]
  },
  {
   "cell_type": "code",
   "execution_count": 7,
   "id": "948a5c10-70f6-468f-99e9-fea7bbc00a19",
   "metadata": {},
   "outputs": [],
   "source": [
    "#4Write a Python program to convert key-values list to flat dictionary?"
   ]
  },
  {
   "cell_type": "code",
   "execution_count": 8,
   "id": "1d0b0cff-1011-4b4b-b2bb-f65ff7d1e402",
   "metadata": {},
   "outputs": [
    {
     "name": "stdout",
     "output_type": "stream",
     "text": [
      "Flattened dictionary :  {1: 'Jan', 2: 'Feb', 3: 'March'}\n"
     ]
    }
   ],
   "source": [
    "test_dict = {'month' : [1, 2, 3],\n",
    "            'name' : ['Jan', 'Feb', 'March']}\n",
    "\n",
    "x=list(test_dict.values())\n",
    "a=x[0]\n",
    "b=x[1]\n",
    "d=dict()\n",
    "for i in range(0,len(a)):\n",
    "    d[a[i]]=b[i]\n",
    "\n",
    "print(\"Flattened dictionary : \",d)"
   ]
  },
  {
   "cell_type": "code",
   "execution_count": 9,
   "id": "1e832845-9d34-44c1-b4ec-0db4c6451136",
   "metadata": {},
   "outputs": [],
   "source": [
    "#5Write a Python program to insertion at the beginning in OrderedDict?"
   ]
  },
  {
   "cell_type": "code",
   "execution_count": 10,
   "id": "fcea8ab0-6b31-4e0d-80f3-af638f246d86",
   "metadata": {},
   "outputs": [
    {
     "name": "stdin",
     "output_type": "stream",
     "text": [
      "Enter key to be inserted  cherry\n",
      "Enter value to be inserted  mango\n"
     ]
    },
    {
     "name": "stdout",
     "output_type": "stream",
     "text": [
      "OrderedDict([('cherry', 'mango'), ('1', 'apple'), ('2', 'mango')])\n"
     ]
    }
   ],
   "source": [
    "from collections import OrderedDict\n",
    "\n",
    "d1 = OrderedDict({\"1\": \"apple\", \"2\": \"mango\"})\n",
    "key = input(\"Enter key to be inserted \")\n",
    "value = input(\"Enter value to be inserted \")\n",
    "\n",
    "\n",
    "d1.update({key:value})\n",
    "d1.move_to_end(key, last=False)\n",
    "print(str(d1))"
   ]
  },
  {
   "cell_type": "code",
   "execution_count": 11,
   "id": "7b8f0912-2a89-474c-9c90-9ac404fb5c4c",
   "metadata": {},
   "outputs": [],
   "source": [
    "#6Write a Python program to check order of character in string using OrderedDict()?"
   ]
  },
  {
   "cell_type": "code",
   "execution_count": 12,
   "id": "f90ddb1f-b579-4f60-b97f-1caaec3af8ed",
   "metadata": {},
   "outputs": [
    {
     "name": "stdin",
     "output_type": "stream",
     "text": [
      "Enter string  ram shree ram\n",
      "Enter pattern  jia\n"
     ]
    },
    {
     "name": "stdout",
     "output_type": "stream",
     "text": [
      "False\n"
     ]
    }
   ],
   "source": [
    "from collections import OrderedDict\n",
    "\n",
    "s = input(\"Enter string \")\n",
    "dict = OrderedDict.fromkeys(s)\n",
    "p = input(\"Enter pattern \")\n",
    "\n",
    "pl = 0\n",
    "for key in dict.keys():\n",
    "    if key in p:\n",
    "        if key!=p[pl]:\n",
    "            print(False)\n",
    "            break\n",
    "        pl += 1\n",
    "else:\n",
    "    print(True)"
   ]
  },
  {
   "cell_type": "code",
   "execution_count": 13,
   "id": "f722b485-49ad-4bcd-b006-09e48ccedae3",
   "metadata": {},
   "outputs": [],
   "source": [
    "#7Write a Python program to sort Python Dictionaries by Key or Value?"
   ]
  },
  {
   "cell_type": "code",
   "execution_count": 14,
   "id": "fcd2aacc-383d-47cf-8856-70410917f58e",
   "metadata": {},
   "outputs": [
    {
     "name": "stdout",
     "output_type": "stream",
     "text": [
      "{1: 'mango', 2: 'apple', 3: 'pineapple', 4: 'orange', 5: 'cherry'}\n"
     ]
    }
   ],
   "source": [
    "d = {2:\"apple\",5:\"cherry\",1:\"mango\",4:\"orange\",3:\"pineapple\"}\n",
    "d2={}\n",
    "\n",
    "keys = [key for key in d.keys()]\n",
    "keys.sort()\n",
    "\n",
    "for key in keys:\n",
    "    d2[key] = d[key]\n",
    "    \n",
    "print(d2)"
   ]
  },
  {
   "cell_type": "code",
   "execution_count": null,
   "id": "c2bade45-abf6-42e4-9247-b91560d52d4a",
   "metadata": {},
   "outputs": [],
   "source": []
  }
 ],
 "metadata": {
  "kernelspec": {
   "display_name": "Python 3 (ipykernel)",
   "language": "python",
   "name": "python3"
  },
  "language_info": {
   "codemirror_mode": {
    "name": "ipython",
    "version": 3
   },
   "file_extension": ".py",
   "mimetype": "text/x-python",
   "name": "python",
   "nbconvert_exporter": "python",
   "pygments_lexer": "ipython3",
   "version": "3.10.6"
  }
 },
 "nbformat": 4,
 "nbformat_minor": 5
}
