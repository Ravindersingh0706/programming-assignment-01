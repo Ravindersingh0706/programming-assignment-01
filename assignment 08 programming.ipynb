{
 "cells": [
  {
   "cell_type": "code",
   "execution_count": 1,
   "id": "e57a37f0-9a2f-4884-b2c9-bc9e8909c3f8",
   "metadata": {},
   "outputs": [],
   "source": [
    "#1Write a Python Program to Add Two Matrices?"
   ]
  },
  {
   "cell_type": "code",
   "execution_count": 2,
   "id": "06aeeeda-fa6b-4d8f-ae49-bc45c78acf38",
   "metadata": {},
   "outputs": [
    {
     "name": "stdin",
     "output_type": "stream",
     "text": [
      "Enter the number of rows  1\n",
      "Enter the number of columns  2\n"
     ]
    },
    {
     "name": "stdout",
     "output_type": "stream",
     "text": [
      "Enter first matrix\n"
     ]
    },
    {
     "name": "stdin",
     "output_type": "stream",
     "text": [
      " 1\n",
      " 2\n"
     ]
    },
    {
     "name": "stdout",
     "output_type": "stream",
     "text": [
      "Enter second matrix\n"
     ]
    },
    {
     "name": "stdin",
     "output_type": "stream",
     "text": [
      " 3\n",
      " 4\n"
     ]
    },
    {
     "name": "stdout",
     "output_type": "stream",
     "text": [
      "[[4, 6]]\n"
     ]
    }
   ],
   "source": [
    "row = int(input(\"Enter the number of rows \"))\n",
    "col = int(input(\"Enter the number of columns \"))\n",
    "\n",
    "print(\"Enter first matrix\")\n",
    "matrix1 = [[int(input()) for j in range(col)]for i in range(row)]\n",
    "\n",
    "print(\"Enter second matrix\")\n",
    "matrix2 = [[int(input()) for j in range(col)]for i in range(row)]\n",
    "\n",
    "result = [[matrix1[i][j]+matrix2[i][j] for j in range(col)] for i in range(row)]\n",
    "print(result)"
   ]
  },
  {
   "cell_type": "code",
   "execution_count": 3,
   "id": "ee85fa72-2db7-4f69-ae91-32a094fb1b3d",
   "metadata": {},
   "outputs": [],
   "source": [
    "#2Write a Python Program to Multiply Two Matrices?"
   ]
  },
  {
   "cell_type": "code",
   "execution_count": 6,
   "id": "2d6331e1-f0fa-4394-acd0-95e46106d587",
   "metadata": {},
   "outputs": [
    {
     "name": "stdin",
     "output_type": "stream",
     "text": [
      "Enter the number of rows for matrix1  2\n",
      "Enter the number of columns for matrix1  3\n"
     ]
    },
    {
     "name": "stdout",
     "output_type": "stream",
     "text": [
      "Enter first matrix\n"
     ]
    },
    {
     "name": "stdin",
     "output_type": "stream",
     "text": [
      " 1\n",
      " 3\n",
      " 2\n",
      " 2\n",
      " 3\n",
      " 4\n",
      "Enter the number of columns for matrix2  2\n"
     ]
    },
    {
     "name": "stdout",
     "output_type": "stream",
     "text": [
      "Enter second matrix\n"
     ]
    },
    {
     "name": "stdin",
     "output_type": "stream",
     "text": [
      " 1\n",
      " 2\n",
      " 3\n",
      " 4\n",
      " 6\n",
      " 4\n"
     ]
    },
    {
     "name": "stdout",
     "output_type": "stream",
     "text": [
      "[[22, 22], [35, 32], [0, 0]]\n"
     ]
    }
   ],
   "source": [
    "row = int(input(\"Enter the number of rows for matrix1 \"))\n",
    "col = int(input(\"Enter the number of columns for matrix1 \"))\n",
    "\n",
    "print(\"Enter first matrix\")\n",
    "matrix1 = [[int(input()) for j in range(col)]for i in range(row)]\n",
    "\n",
    "row = col\n",
    "col = int(input(\"Enter the number of columns for matrix2 \"))\n",
    "\n",
    "print(\"Enter second matrix\")\n",
    "matrix2 = [[int(input()) for j in range(col)]for i in range(row)]\n",
    "\n",
    "result = [[0 for j in range(len(matrix2[0]))] for i in range(len(matrix2))]\n",
    "\n",
    "for i in range(len(matrix1)):\n",
    "    for j in range(len(matrix2[0])):\n",
    "        for k in range(len(matrix2)):\n",
    "            result[i][j] += matrix1[i][k] * matrix2[k][j]\n",
    "\n",
    "print(result)"
   ]
  },
  {
   "cell_type": "code",
   "execution_count": 7,
   "id": "30782f02-364c-4a09-8fb6-175e61f4c2db",
   "metadata": {},
   "outputs": [],
   "source": [
    "#3Write a Python Program to Transpose a Matrix?"
   ]
  },
  {
   "cell_type": "code",
   "execution_count": null,
   "id": "27983aa4-51b5-433a-919d-13891ed5fac3",
   "metadata": {},
   "outputs": [],
   "source": [
    "row = int(input(\"Enter the number of rows for matrix1 \"))\n",
    "col = int(input(\"Enter the number of columns for matrix1 \"))\n",
    "\n",
    "print(\"Enter first matrix\")\n",
    "matrix1 = [[int(input()) for j in range(col)]for i in range(row)]\n",
    "\n",
    "result = [[matrix1[j][i] for j in range(len(matrix1))] for i in range(len(matrix1[0]))]\n",
    "print(result)"
   ]
  },
  {
   "cell_type": "code",
   "execution_count": null,
   "id": "f551246d-d876-4511-ba89-670106205053",
   "metadata": {},
   "outputs": [],
   "source": []
  }
 ],
 "metadata": {
  "kernelspec": {
   "display_name": "Python 3 (ipykernel)",
   "language": "python",
   "name": "python3"
  },
  "language_info": {
   "codemirror_mode": {
    "name": "ipython",
    "version": 3
   },
   "file_extension": ".py",
   "mimetype": "text/x-python",
   "name": "python",
   "nbconvert_exporter": "python",
   "pygments_lexer": "ipython3",
   "version": "3.10.6"
  }
 },
 "nbformat": 4,
 "nbformat_minor": 5
}
