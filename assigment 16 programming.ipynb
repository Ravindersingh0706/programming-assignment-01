{
 "cells": [
  {
   "cell_type": "code",
   "execution_count": 1,
   "id": "db7b6b0c-779d-4d26-b98a-1ba7f057ffd2",
   "metadata": {},
   "outputs": [],
   "source": [
    "#1Question1. Write a function that stutters a word as if someone is struggling to read it. The first two letters \n",
    "#are repeated twice with an ellipsis ... and space after each, and then the word is pronounced with a question mark ?."
   ]
  },
  {
   "cell_type": "code",
   "execution_count": 9,
   "id": "b738ab9b-dfd2-4665-ab76-0f423192ba33",
   "metadata": {},
   "outputs": [
    {
     "name": "stdin",
     "output_type": "stream",
     "text": [
      "Enter the word  ravindersingh\n"
     ]
    },
    {
     "name": "stdout",
     "output_type": "stream",
     "text": [
      "ra...ra...ravindersingh?\n"
     ]
    }
   ],
   "source": [
    "word = input(\"Enter the word \")\n",
    "print(word[:2]+\"...\"+word[:2]+\"...\"+word+\"?\")"
   ]
  },
  {
   "cell_type": "code",
   "execution_count": 10,
   "id": "3a07d348-919d-49ec-8efc-92d1c74ea17e",
   "metadata": {},
   "outputs": [],
   "source": [
    "#2Create a function that takes an angle in radians and returns the corresponding angle in degrees rounded to one decimal place."
   ]
  },
  {
   "cell_type": "code",
   "execution_count": 11,
   "id": "58ee0e5d-9ed2-439f-aefa-00afa5621228",
   "metadata": {},
   "outputs": [
    {
     "name": "stdout",
     "output_type": "stream",
     "text": [
      "1145.9\n"
     ]
    }
   ],
   "source": [
    "import math\n",
    "\n",
    "\n",
    "def radians_to_degrees(radian):\n",
    "    degree = radian * 180 / math.pi\n",
    "    return round(degree, 1)\n",
    "\n",
    "print(radians_to_degrees(20))"
   ]
  },
  {
   "cell_type": "code",
   "execution_count": 13,
   "id": "be392ae4-626b-4c81-98c0-1ce26424f11b",
   "metadata": {},
   "outputs": [],
   "source": [
    "#3In this challenge, establish if a given integer num is a Curzon number. If 1 plus 2 elevated to num is exactly divisible \n",
    "#by 1 plus 2 multiplied by num, then num is a Curzon number. Given a non-negative integer num, implement a function that \n",
    "##eturns True if num is a Curzon number, or False otherwise."
   ]
  },
  {
   "cell_type": "code",
   "execution_count": null,
   "id": "af852108-a7c0-4541-acfa-4484c3cc38b4",
   "metadata": {},
   "outputs": [],
   "source": [
    "def is_curzon(num):\n",
    "    x = 2**num + 1\n",
    "    y = 2*num + 1\n",
    "    return x % y == 0\n",
    "\n",
    "print(is_curzon(5))"
   ]
  }
 ],
 "metadata": {
  "kernelspec": {
   "display_name": "Python 3 (ipykernel)",
   "language": "python",
   "name": "python3"
  },
  "language_info": {
   "codemirror_mode": {
    "name": "ipython",
    "version": 3
   },
   "file_extension": ".py",
   "mimetype": "text/x-python",
   "name": "python",
   "nbconvert_exporter": "python",
   "pygments_lexer": "ipython3",
   "version": "3.10.6"
  }
 },
 "nbformat": 4,
 "nbformat_minor": 5
}
