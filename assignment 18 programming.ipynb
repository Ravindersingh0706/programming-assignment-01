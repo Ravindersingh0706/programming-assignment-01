{
 "cells": [
  {
   "cell_type": "code",
   "execution_count": 1,
   "id": "4e0b2650-2341-4da6-82e4-d4d0b8c35eab",
   "metadata": {},
   "outputs": [],
   "source": [
    "#1Create a function that takes a list of non-negative integers and strings and return a new list without the strings."
   ]
  },
  {
   "cell_type": "code",
   "execution_count": 2,
   "id": "2f56ba44-9924-4776-bb2d-63b02b244f29",
   "metadata": {},
   "outputs": [
    {
     "name": "stdout",
     "output_type": "stream",
     "text": [
      "[1, 2]\n"
     ]
    }
   ],
   "source": [
    "def filter_list(lst):\n",
    "    result = []\n",
    "    for i in lst:\n",
    "        if str(i).isdigit():\n",
    "            result.append(i)\n",
    "    return result\n",
    "\n",
    "\n",
    "print(filter_list([1,2,\"a\",\"b\"]))"
   ]
  },
  {
   "cell_type": "code",
   "execution_count": 3,
   "id": "117ff88c-5d79-4634-966b-bb99459e1bc9",
   "metadata": {},
   "outputs": [],
   "source": [
    "#2The \"Reverser\" takes a string as input and returns that string in reverse order, with the opposite case."
   ]
  },
  {
   "cell_type": "code",
   "execution_count": 4,
   "id": "534a57cc-4714-4f5d-afed-3d83c07af38b",
   "metadata": {},
   "outputs": [
    {
     "name": "stdout",
     "output_type": "stream",
     "text": [
      "DLROw OLLEh\n"
     ]
    }
   ],
   "source": [
    "def reverse(sentence):\n",
    "    sentence = sentence[::-1]\n",
    "    result = \"\"\n",
    "    for i in sentence:\n",
    "        if i.islower():\n",
    "            result += i.upper()\n",
    "        else:\n",
    "            result += i.lower()\n",
    "\n",
    "    return result\n",
    "\n",
    "\n",
    "print(reverse(\"Hello World\"))"
   ]
  },
  {
   "cell_type": "code",
   "execution_count": 5,
   "id": "2b7d9b6e-2777-4d39-9ea2-846e653f8109",
   "metadata": {},
   "outputs": [],
   "source": [
    "#3You can assign variables from lists like this:"
   ]
  },
  {
   "cell_type": "code",
   "execution_count": 6,
   "id": "b2618dba-87ac-4d1d-a254-3c26f743db21",
   "metadata": {},
   "outputs": [
    {
     "name": "stdout",
     "output_type": "stream",
     "text": [
      "1\n",
      "[2, 3, 4, 5]\n",
      "6\n"
     ]
    }
   ],
   "source": [
    "lst = [1, 2, 3, 4, 5, 6]\n",
    "first, *middle, last = lst\n",
    "\n",
    "print(first)\n",
    "print(middle)\n",
    "print(last)"
   ]
  },
  {
   "cell_type": "code",
   "execution_count": 7,
   "id": "0f7f7939-10f2-477d-8530-909492f8b97e",
   "metadata": {},
   "outputs": [],
   "source": [
    "#4Write a function that calculates the factorial of a number recursively."
   ]
  },
  {
   "cell_type": "code",
   "execution_count": 8,
   "id": "68757b7f-5006-45ad-9011-d98c7e3b629b",
   "metadata": {},
   "outputs": [
    {
     "name": "stdout",
     "output_type": "stream",
     "text": [
      "720\n"
     ]
    }
   ],
   "source": [
    "def factorial(n):\n",
    "    if n == 1:\n",
    "        return 1\n",
    "    return n*factorial(n-1)\n",
    "\n",
    "\n",
    "print(factorial(6))"
   ]
  },
  {
   "cell_type": "code",
   "execution_count": 9,
   "id": "e9788dd7-c0f6-4b3d-817e-a5790c956476",
   "metadata": {},
   "outputs": [],
   "source": [
    "#5Write a function that moves all elements of one type to the end of the list."
   ]
  },
  {
   "cell_type": "code",
   "execution_count": 10,
   "id": "8bbe7423-08bb-49c3-bae8-afacdb80e068",
   "metadata": {},
   "outputs": [
    {
     "name": "stdout",
     "output_type": "stream",
     "text": [
      "['b', 'a', 'a', 'a']\n"
     ]
    }
   ],
   "source": [
    "def move_to_end(lst, num):\n",
    "    temp = []\n",
    "    while num in lst:\n",
    "        lst.remove(num)\n",
    "        temp.append(num)\n",
    "    lst.extend(temp)\n",
    "    return lst\n",
    "\n",
    "\n",
    "print(move_to_end([\"a\",\"a\",\"a\",\"b\"], \"a\"))"
   ]
  },
  {
   "cell_type": "code",
   "execution_count": null,
   "id": "5441b59b-5b8b-4111-a2c2-47528433b81c",
   "metadata": {},
   "outputs": [],
   "source": []
  }
 ],
 "metadata": {
  "kernelspec": {
   "display_name": "Python 3 (ipykernel)",
   "language": "python",
   "name": "python3"
  },
  "language_info": {
   "codemirror_mode": {
    "name": "ipython",
    "version": 3
   },
   "file_extension": ".py",
   "mimetype": "text/x-python",
   "name": "python",
   "nbconvert_exporter": "python",
   "pygments_lexer": "ipython3",
   "version": "3.10.6"
  }
 },
 "nbformat": 4,
 "nbformat_minor": 5
}
