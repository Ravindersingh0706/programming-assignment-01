{
 "cells": [
  {
   "cell_type": "code",
   "execution_count": 1,
   "id": "8bcc69de-cd8a-438a-9277-0b66052c89bb",
   "metadata": {},
   "outputs": [],
   "source": [
    "#1Write a Python program to find words which are greater than given length k?"
   ]
  },
  {
   "cell_type": "code",
   "execution_count": 2,
   "id": "ed2459c5-2d59-4ebf-94a4-d284b5371024",
   "metadata": {},
   "outputs": [
    {
     "name": "stdin",
     "output_type": "stream",
     "text": [
      "Enter the words  ram shree ram\n",
      "Enter the value of k  3\n"
     ]
    },
    {
     "name": "stdout",
     "output_type": "stream",
     "text": [
      "shree "
     ]
    }
   ],
   "source": [
    "lst = input(\"Enter the words \").split()\n",
    "k = int(input(\"Enter the value of k \"))\n",
    "for i in lst:\n",
    "    if len(i) > k:\n",
    "        print(i, end=\" \")"
   ]
  },
  {
   "cell_type": "code",
   "execution_count": 3,
   "id": "265e3ae3-925e-4791-af6a-c63abfaa16ca",
   "metadata": {},
   "outputs": [],
   "source": [
    "#2Write a Python program for removing i-th character from a string?"
   ]
  },
  {
   "cell_type": "code",
   "execution_count": 4,
   "id": "95903444-2971-4f9a-b191-e8c6ef44558b",
   "metadata": {},
   "outputs": [
    {
     "name": "stdin",
     "output_type": "stream",
     "text": [
      "Enter the word  ravinder singh \n",
      "Enter the value of i  5\n"
     ]
    },
    {
     "name": "stdout",
     "output_type": "stream",
     "text": [
      "ravider singh \n"
     ]
    }
   ],
   "source": [
    "lst = input(\"Enter the word \")\n",
    "lst = list(lst)\n",
    "i = int(input(\"Enter the value of i \"))\n",
    "\n",
    "if i>len(lst):\n",
    "    print(\"Invalid value of i\")\n",
    "else:\n",
    "    lst.pop(i-1)\n",
    "    \n",
    "print(\"\".join(lst))"
   ]
  },
  {
   "cell_type": "code",
   "execution_count": 5,
   "id": "be1b8c1c-df0c-4eb0-ac83-4082f672d441",
   "metadata": {},
   "outputs": [],
   "source": [
    "#3Write a Python program to split and join a string?"
   ]
  },
  {
   "cell_type": "code",
   "execution_count": 6,
   "id": "9043a8ae-32a0-4542-8968-c5057b73134a",
   "metadata": {},
   "outputs": [
    {
     "name": "stdin",
     "output_type": "stream",
     "text": [
      "Enter the words  jia shreee ram\n"
     ]
    },
    {
     "name": "stdout",
     "output_type": "stream",
     "text": [
      "['jia', 'shreee', 'ram']\n",
      "jiashreeeram\n"
     ]
    }
   ],
   "source": [
    "lst = input(\"Enter the words \").split()\n",
    "print(lst)\n",
    "print(\"\".join(lst))"
   ]
  },
  {
   "cell_type": "code",
   "execution_count": 7,
   "id": "15a3fe6e-a816-4852-9d7b-458e4fe046a9",
   "metadata": {},
   "outputs": [],
   "source": [
    "#4Write a Python to check if a given string is binary string or not?"
   ]
  },
  {
   "cell_type": "code",
   "execution_count": null,
   "id": "f3363e85-a240-426e-93b8-24168aac5707",
   "metadata": {},
   "outputs": [],
   "source": []
  }
 ],
 "metadata": {
  "kernelspec": {
   "display_name": "Python 3 (ipykernel)",
   "language": "python",
   "name": "python3"
  },
  "language_info": {
   "codemirror_mode": {
    "name": "ipython",
    "version": 3
   },
   "file_extension": ".py",
   "mimetype": "text/x-python",
   "name": "python",
   "nbconvert_exporter": "python",
   "pygments_lexer": "ipython3",
   "version": "3.10.6"
  }
 },
 "nbformat": 4,
 "nbformat_minor": 5
}
